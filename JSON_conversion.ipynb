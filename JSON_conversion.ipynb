{
 "cells": [
  {
   "cell_type": "code",
   "execution_count": 6,
   "metadata": {},
   "outputs": [],
   "source": [
    "import pandas as pd\n",
    "import csv\n",
    "import json"
   ]
  },
  {
   "cell_type": "code",
   "execution_count": 10,
   "metadata": {
    "scrolled": true
   },
   "outputs": [],
   "source": [
    "df=pd.read_csv('zipcode_sf_zri_2018.csv')"
   ]
  },
  {
   "cell_type": "code",
   "execution_count": 11,
   "metadata": {
    "scrolled": true
   },
   "outputs": [
    {
     "data": {
      "text/html": [
       "<div>\n",
       "<style scoped>\n",
       "    .dataframe tbody tr th:only-of-type {\n",
       "        vertical-align: middle;\n",
       "    }\n",
       "\n",
       "    .dataframe tbody tr th {\n",
       "        vertical-align: top;\n",
       "    }\n",
       "\n",
       "    .dataframe thead th {\n",
       "        text-align: right;\n",
       "    }\n",
       "</style>\n",
       "<table border=\"1\" class=\"dataframe\">\n",
       "  <thead>\n",
       "    <tr style=\"text-align: right;\">\n",
       "      <th></th>\n",
       "      <th>Unnamed: 0</th>\n",
       "      <th>year</th>\n",
       "      <th>zipcode</th>\n",
       "      <th>ZRI</th>\n",
       "      <th>lat</th>\n",
       "      <th>lon</th>\n",
       "    </tr>\n",
       "  </thead>\n",
       "  <tbody>\n",
       "    <tr>\n",
       "      <th>0</th>\n",
       "      <td>128259</td>\n",
       "      <td>2018</td>\n",
       "      <td>1001</td>\n",
       "      <td>1680.0</td>\n",
       "      <td>42.062368</td>\n",
       "      <td>-72.625754</td>\n",
       "    </tr>\n",
       "    <tr>\n",
       "      <th>1</th>\n",
       "      <td>128260</td>\n",
       "      <td>2018</td>\n",
       "      <td>1002</td>\n",
       "      <td>2399.0</td>\n",
       "      <td>42.364031</td>\n",
       "      <td>-72.458759</td>\n",
       "    </tr>\n",
       "    <tr>\n",
       "      <th>2</th>\n",
       "      <td>128261</td>\n",
       "      <td>2018</td>\n",
       "      <td>1005</td>\n",
       "      <td>1542.0</td>\n",
       "      <td>42.418884</td>\n",
       "      <td>-72.112077</td>\n",
       "    </tr>\n",
       "    <tr>\n",
       "      <th>3</th>\n",
       "      <td>128262</td>\n",
       "      <td>2018</td>\n",
       "      <td>1007</td>\n",
       "      <td>1897.0</td>\n",
       "      <td>42.279010</td>\n",
       "      <td>-72.400468</td>\n",
       "    </tr>\n",
       "    <tr>\n",
       "      <th>4</th>\n",
       "      <td>128263</td>\n",
       "      <td>2018</td>\n",
       "      <td>1008</td>\n",
       "      <td>1664.0</td>\n",
       "      <td>42.190191</td>\n",
       "      <td>-72.954263</td>\n",
       "    </tr>\n",
       "  </tbody>\n",
       "</table>\n",
       "</div>"
      ],
      "text/plain": [
       "   Unnamed: 0  year  zipcode     ZRI        lat        lon\n",
       "0      128259  2018     1001  1680.0  42.062368 -72.625754\n",
       "1      128260  2018     1002  2399.0  42.364031 -72.458759\n",
       "2      128261  2018     1005  1542.0  42.418884 -72.112077\n",
       "3      128262  2018     1007  1897.0  42.279010 -72.400468\n",
       "4      128263  2018     1008  1664.0  42.190191 -72.954263"
      ]
     },
     "execution_count": 11,
     "metadata": {},
     "output_type": "execute_result"
    }
   ],
   "source": [
    "df.head()"
   ]
  },
  {
   "cell_type": "code",
   "execution_count": 13,
   "metadata": {},
   "outputs": [],
   "source": [
    "csvfile = open('zipcode_sf_zri_2018.csv', 'r')\n",
    "jsonfile = open('file.json', 'w')\n",
    "\n",
    "fieldnames = (\"Unnamed: 0\",\"year\",\"zipcode\",\"ZRI\",\"lat\",\"lon\")\n",
    "reader = csv.DictReader( csvfile, fieldnames)\n",
    "for row in reader:\n",
    "   json.dump(row, jsonfile)\n",
    "   jsonfile.write('\\n')"
   ]
  },
  {
   "cell_type": "code",
   "execution_count": null,
   "metadata": {},
   "outputs": [],
   "source": []
  }
 ],
 "metadata": {
  "kernelspec": {
   "display_name": "Python 3",
   "language": "python",
   "name": "python3"
  },
  "language_info": {
   "codemirror_mode": {
    "name": "ipython",
    "version": 3
   },
   "file_extension": ".py",
   "mimetype": "text/x-python",
   "name": "python",
   "nbconvert_exporter": "python",
   "pygments_lexer": "ipython3",
   "version": "3.6.6"
  }
 },
 "nbformat": 4,
 "nbformat_minor": 2
}
